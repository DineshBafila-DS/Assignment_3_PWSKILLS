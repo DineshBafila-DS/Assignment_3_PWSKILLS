{
 "cells": [
  {
   "cell_type": "markdown",
   "id": "1e9b6f4f",
   "metadata": {},
   "source": [
    "# Basic Level:"
   ]
  },
  {
   "cell_type": "markdown",
   "id": "56f19669",
   "metadata": {},
   "source": [
    "1. Write a Python program to print the numbers from 1 to 10 using a `for` loop."
   ]
  },
  {
   "cell_type": "code",
   "execution_count": 3,
   "id": "2429b8ca",
   "metadata": {},
   "outputs": [
    {
     "name": "stdout",
     "output_type": "stream",
     "text": [
      "1 2 3 4 5 6 7 8 9 10 "
     ]
    }
   ],
   "source": [
    "for i in range(1,11):\n",
    "    print(i,end=\" \")"
   ]
  },
  {
   "cell_type": "markdown",
   "id": "5d2745b2",
   "metadata": {},
   "source": [
    "2. Create a program that calculates the sum of all numbers in a list using a `for` loop."
   ]
  },
  {
   "cell_type": "code",
   "execution_count": 15,
   "id": "4fa3de2f",
   "metadata": {},
   "outputs": [
    {
     "name": "stdout",
     "output_type": "stream",
     "text": [
      "Enter the length of the list: 5\n",
      "Enter the 5 elements of list\n",
      "1\n",
      "3\n",
      "2\n",
      "5\n",
      "6\n",
      "The sum of the list elements is: 17\n"
     ]
    }
   ],
   "source": [
    "n=int(input(\"Enter the length of the list: \"))\n",
    "sum=0\n",
    "a=[]\n",
    "print(\"Enter the\",n,\"elements of list\")\n",
    "for i in range(n):\n",
    "    a.append(int(input()))\n",
    "for i in a:\n",
    "    sum=sum+i\n",
    "print(\"The sum of the list elements is:\",sum)"
   ]
  },
  {
   "cell_type": "markdown",
   "id": "a2dd09d3",
   "metadata": {},
   "source": [
    "3. Write a program to print the characters of a string in reverse order using a `for` loop."
   ]
  },
  {
   "cell_type": "code",
   "execution_count": 17,
   "id": "b66ee7b6",
   "metadata": {},
   "outputs": [
    {
     "name": "stdout",
     "output_type": "stream",
     "text": [
      "Enter a stringHello\n",
      "o\n",
      "l\n",
      "l\n",
      "e\n",
      "H\n"
     ]
    }
   ],
   "source": [
    "a=input(\"Enter a string\")\n",
    "for i in a[::-1]:\n",
    "    print(i)"
   ]
  },
  {
   "cell_type": "code",
   "execution_count": null,
   "id": "92a7ee39",
   "metadata": {},
   "outputs": [],
   "source": [
    "4. Develop a program that finds the factorial of a given number using a `for` loop."
   ]
  },
  {
   "cell_type": "code",
   "execution_count": 24,
   "id": "1b9ae66b",
   "metadata": {},
   "outputs": [
    {
     "name": "stdout",
     "output_type": "stream",
     "text": [
      "Enter a number for which you want to find the factorial: 5\n",
      "120\n"
     ]
    }
   ],
   "source": [
    "fact=1\n",
    "n=int(input(\"Enter a number for which you want to find the factorial: \"))\n",
    "for i in range(n):\n",
    "    fact=fact*n\n",
    "    n=n-1\n",
    "print(fact)"
   ]
  },
  {
   "cell_type": "markdown",
   "id": "13adc771",
   "metadata": {},
   "source": [
    "5. Create a program to print the multiplication table of a given number using a `for` loop."
   ]
  },
  {
   "cell_type": "code",
   "execution_count": 34,
   "id": "7ed69bfa",
   "metadata": {},
   "outputs": [
    {
     "name": "stdout",
     "output_type": "stream",
     "text": [
      "Enter a number for which you want table5\n",
      "5 * 1 := 5\n",
      "5 * 2 := 10\n",
      "5 * 3 := 15\n",
      "5 * 4 := 20\n",
      "5 * 5 := 25\n",
      "5 * 6 := 30\n",
      "5 * 7 := 35\n",
      "5 * 8 := 40\n",
      "5 * 9 := 45\n",
      "5 * 10 := 50\n"
     ]
    }
   ],
   "source": [
    "n=int(input(\"Enter a number for which you want table\"))\n",
    "for i in range(1,11):\n",
    "    mul=n*i\n",
    "    print(n,\"*\",i,\":=\",mul)"
   ]
  },
  {
   "cell_type": "markdown",
   "id": "115ee76b",
   "metadata": {},
   "source": [
    "6. Write a program that counts the number of even and odd numbers in a list using a `for` loop."
   ]
  },
  {
   "cell_type": "code",
   "execution_count": 36,
   "id": "876f0592",
   "metadata": {},
   "outputs": [
    {
     "name": "stdout",
     "output_type": "stream",
     "text": [
      "Enter the list length5\n",
      "Enter,a, list elements\n",
      "1\n",
      "2\n",
      "3\n",
      "4\n",
      "5\n",
      "Total count of even number in the list are:  2  and the total counts of odd number is:  3\n"
     ]
    }
   ],
   "source": [
    "a=int(input(\"Enter the list length\"))\n",
    "b=[]\n",
    "print(\"Enter,a, list elements\")\n",
    "for i in range(a):\n",
    "    b.append(int(input()))\n",
    "even_count=0\n",
    "odd_count=0\n",
    "for i in b:\n",
    "    if(i%2==0):\n",
    "        even_count+=1\n",
    "    else:\n",
    "        odd_count+=1\n",
    "print(\"Total count of even number in the list are: \",even_count,\" and the total counts of odd number is: \", odd_count)"
   ]
  },
  {
   "cell_type": "markdown",
   "id": "0ecacea7",
   "metadata": {},
   "source": [
    "7. Develop a program that prints the squares of numbers from 1 to 5 using a `for` loop."
   ]
  },
  {
   "cell_type": "code",
   "execution_count": 38,
   "id": "858b66b2",
   "metadata": {},
   "outputs": [
    {
     "name": "stdout",
     "output_type": "stream",
     "text": [
      "Square of 1  is:  1\n",
      "Square of 2  is:  4\n",
      "Square of 3  is:  9\n",
      "Square of 4  is:  16\n",
      "Square of 5  is:  25\n"
     ]
    }
   ],
   "source": [
    "for i in range(1,6):\n",
    "    sqr=i*i\n",
    "    print(\"Square of\",i,\" is: \",sqr)"
   ]
  },
  {
   "cell_type": "markdown",
   "id": "ea045069",
   "metadata": {},
   "source": [
    "8. Create a program to find the length of a string without using the `len()` function."
   ]
  },
  {
   "cell_type": "code",
   "execution_count": 1,
   "id": "f3e043b7",
   "metadata": {},
   "outputs": [
    {
     "name": "stdout",
     "output_type": "stream",
     "text": [
      "Enter a string: Hello Python\n",
      "length of the give string is: 12\n"
     ]
    }
   ],
   "source": [
    "a=input(\"Enter a string: \")\n",
    "count=0\n",
    "for i in a:\n",
    "    count+=1\n",
    "print(\"length of the give string is:\",count)"
   ]
  },
  {
   "cell_type": "code",
   "execution_count": null,
   "id": "fa9e1e84",
   "metadata": {},
   "outputs": [],
   "source": [
    "9. Write a program that calculates the average of a list of numbers using a `for` loop."
   ]
  },
  {
   "cell_type": "code",
   "execution_count": 3,
   "id": "8fc02b28",
   "metadata": {},
   "outputs": [
    {
     "name": "stdout",
     "output_type": "stream",
     "text": [
      "Enter the length of the list: 5\n",
      "6\n",
      "7\n",
      "9\n",
      "3\n",
      "8\n",
      "The average of the given list element is: 6.6\n"
     ]
    }
   ],
   "source": [
    "n=int(input(\"Enter the length of the list: \"))\n",
    "sum=0\n",
    "a=[]\n",
    "for i in range(n):\n",
    "    a.append(int(input()))\n",
    "for i in a:\n",
    "    sum=sum+i\n",
    "avg=sum/n\n",
    "print(\"The average of the given list element is:\",avg)\n",
    "    "
   ]
  },
  {
   "cell_type": "markdown",
   "id": "a1229c70",
   "metadata": {},
   "source": [
    "10. Develop a program that prints the first `n` Fibonacci numbers using a `for` loop."
   ]
  },
  {
   "cell_type": "code",
   "execution_count": 4,
   "id": "41a2c1eb",
   "metadata": {},
   "outputs": [
    {
     "name": "stdout",
     "output_type": "stream",
     "text": [
      "Enter the value of n: 5\n",
      "The first 5 Fibonacci numbers are:\n",
      "[0, 1, 1, 2, 3]\n"
     ]
    }
   ],
   "source": [
    "def fibonacci(n):\n",
    "    fib_series = []\n",
    "    \n",
    "    # Handle the base cases\n",
    "    if n <= 0:\n",
    "        return fib_series\n",
    "    elif n == 1:\n",
    "        fib_series.append(0)\n",
    "        return fib_series\n",
    "    elif n == 2:\n",
    "        fib_series.extend([0, 1])\n",
    "        return fib_series\n",
    "    \n",
    "    # Initialize the first two Fibonacci numbers\n",
    "    a, b = 0, 1\n",
    "    \n",
    "    # Add the first two numbers to the series\n",
    "    fib_series.extend([a, b])\n",
    "    \n",
    "    # Calculate and add the remaining Fibonacci numbers\n",
    "    for i in range(2, n):\n",
    "        next_fib = a + b\n",
    "        fib_series.append(next_fib)\n",
    "        a, b = b, next_fib\n",
    "    \n",
    "    return fib_series\n",
    "\n",
    "# Input the value of n\n",
    "n = int(input(\"Enter the value of n: \"))\n",
    "\n",
    "# Print the first n Fibonacci numbers\n",
    "fib_series = fibonacci(n)\n",
    "print(f\"The first {n} Fibonacci numbers are:\")\n",
    "print(fib_series)"
   ]
  },
  {
   "cell_type": "markdown",
   "id": "c1a33cfe",
   "metadata": {},
   "source": [
    "# Intermediate Level:"
   ]
  },
  {
   "cell_type": "markdown",
   "id": "4d323ccd",
   "metadata": {},
   "source": [
    "#### 11. Write a program to check if a given list contains any duplicates using a `for` loop."
   ]
  },
  {
   "cell_type": "code",
   "execution_count": 25,
   "id": "db7c548d",
   "metadata": {},
   "outputs": [
    {
     "name": "stdout",
     "output_type": "stream",
     "text": [
      "Enter the length of the list: 5\n",
      "Enter 5 List elements\n",
      "1\n",
      "2\n",
      "3\n",
      "4\n",
      "2\n",
      "['1', '2', '3', '4', '2']\n",
      "The list consist duplicate elements\n"
     ]
    }
   ],
   "source": [
    "n=int(input(\"Enter the length of the list: \"))\n",
    "print(\"Enter\",n,\"List elements\")\n",
    "l=[]\n",
    "l1=[]\n",
    "for i in range(n):\n",
    "    l.append(input())\n",
    "print(l)\n",
    "for i in range(n):\n",
    "    for j in range(i+1,n):\n",
    "        if(l[i]==l[j]):\n",
    "            l1.append(l[i])\n",
    "        else:\n",
    "            continue\n",
    "if(len(l1)>0):\n",
    "    print(\"The list consist duplicate elements\")\n",
    "else:\n",
    "    print(\"The given list does not consist duplicate elements\")"
   ]
  },
  {
   "cell_type": "markdown",
   "id": "0911c60d",
   "metadata": {},
   "source": [
    "#### 12. Create a program that prints the prime numbers in a given range using a `for` loop"
   ]
  },
  {
   "cell_type": "code",
   "execution_count": 27,
   "id": "53b662f5",
   "metadata": {},
   "outputs": [
    {
     "name": "stdout",
     "output_type": "stream",
     "text": [
      "Give the start range3\n",
      "Give the end range50\n",
      "Prime numbers between 3 and 50:\n",
      "3\n",
      "5\n",
      "7\n",
      "11\n",
      "13\n",
      "17\n",
      "19\n",
      "23\n",
      "29\n",
      "31\n",
      "37\n",
      "41\n",
      "43\n",
      "47\n"
     ]
    }
   ],
   "source": [
    "def is_prime(num):\n",
    "    if num <= 1:\n",
    "        return False\n",
    "    for i in range(2, int(num**0.5) + 1):\n",
    "        if num % i == 0:\n",
    "            return False\n",
    "    return True\n",
    "\n",
    "def print_primes_in_range(start, end):\n",
    "    for num in range(start, end + 1):\n",
    "        if is_prime(num):\n",
    "            print(num)\n",
    "\n",
    "# Example usage:\n",
    "start_range = int(input(\"Give the start range\"))\n",
    "end_range = int(input(\"Give the end range\"))\n",
    "\n",
    "print(f\"Prime numbers between {start_range} and {end_range}:\")\n",
    "print_primes_in_range(start_range, end_range)\n"
   ]
  },
  {
   "cell_type": "markdown",
   "id": "0a7f152a",
   "metadata": {},
   "source": [
    "#### 13. Develop a program that counts the number of vowels in a string using a `for` loop."
   ]
  },
  {
   "cell_type": "code",
   "execution_count": 30,
   "id": "2627cc89",
   "metadata": {},
   "outputs": [
    {
     "name": "stdout",
     "output_type": "stream",
     "text": [
      "Enter a stringHello python\n",
      "Total Number of vowels present in the given string is:  3\n"
     ]
    }
   ],
   "source": [
    "n=input(\"Enter a string\")\n",
    "vowl=['a','e','i','o','u']\n",
    "count=0\n",
    "for i in n:\n",
    "    if(i in vowl):\n",
    "        count+=1\n",
    "    else:\n",
    "        continue\n",
    "print(\"Total Number of vowels present in the given string is: \",count)\n",
    "        "
   ]
  },
  {
   "cell_type": "markdown",
   "id": "af4a0b31",
   "metadata": {},
   "source": [
    "14. Write a program to find the maximum element in a 2D list using a nested `for` loop."
   ]
  },
  {
   "cell_type": "code",
   "execution_count": 45,
   "id": "b8053b87",
   "metadata": {},
   "outputs": [
    {
     "name": "stdout",
     "output_type": "stream",
     "text": [
      "The maximum elemnt in the given 2D list is:  12\n"
     ]
    }
   ],
   "source": [
    "l=[[4,5,6],[12,2,3],[7,8,9]]\n",
    "max=l[0][0]\n",
    "for i in range(len(l)):\n",
    "    for j in range(len(l)):\n",
    "        #print(l[i][j])\n",
    "        if(l[i][j]>max):\n",
    "            max=l[i][j]\n",
    "        else:\n",
    "            continue\n",
    "print(\"The maximum elemnt in the given 2D list is: \",max)"
   ]
  },
  {
   "cell_type": "markdown",
   "id": "8f5ff3a0",
   "metadata": {},
   "source": [
    "15. Create a program that removes all occurrences of a specific element from a list using a `for` loop."
   ]
  },
  {
   "cell_type": "code",
   "execution_count": 2,
   "id": "d1ce9fbc",
   "metadata": {},
   "outputs": [
    {
     "name": "stdout",
     "output_type": "stream",
     "text": [
      "Enter a String: Hello Python, How are you and How is your journey going?\n",
      "Enter an element that you want to remove from the listHow\n",
      "Hello Python, are you and is your journey going?\n"
     ]
    }
   ],
   "source": [
    "s=input(\"Enter a String: \")\n",
    "a=s.split()\n",
    "d=input(\"Enter an element that you want to remove from the list\")\n",
    "for i in a:\n",
    "    if(i==d):\n",
    "        a.remove(i)\n",
    "print(' '.join(a))"
   ]
  },
  {
   "cell_type": "markdown",
   "id": "35578321",
   "metadata": {},
   "source": [
    "16. Develop a program that generates a multiplication table for numbers from 1 to 5 using a nested `for` loop."
   ]
  },
  {
   "cell_type": "code",
   "execution_count": 11,
   "id": "fec9a2ad",
   "metadata": {},
   "outputs": [
    {
     "name": "stdout",
     "output_type": "stream",
     "text": [
      "Multiplication Table for: 1\n",
      "1 * 1 := 1\n",
      "1 * 2 := 2\n",
      "1 * 3 := 3\n",
      "1 * 4 := 4\n",
      "1 * 5 := 5\n",
      "1 * 6 := 6\n",
      "1 * 7 := 7\n",
      "1 * 8 := 8\n",
      "1 * 9 := 9\n",
      "1 * 10 := 10\n",
      "Multiplication Table for: 2\n",
      "2 * 1 := 2\n",
      "2 * 2 := 4\n",
      "2 * 3 := 6\n",
      "2 * 4 := 8\n",
      "2 * 5 := 10\n",
      "2 * 6 := 12\n",
      "2 * 7 := 14\n",
      "2 * 8 := 16\n",
      "2 * 9 := 18\n",
      "2 * 10 := 20\n",
      "Multiplication Table for: 3\n",
      "3 * 1 := 3\n",
      "3 * 2 := 6\n",
      "3 * 3 := 9\n",
      "3 * 4 := 12\n",
      "3 * 5 := 15\n",
      "3 * 6 := 18\n",
      "3 * 7 := 21\n",
      "3 * 8 := 24\n",
      "3 * 9 := 27\n",
      "3 * 10 := 30\n",
      "Multiplication Table for: 4\n",
      "4 * 1 := 4\n",
      "4 * 2 := 8\n",
      "4 * 3 := 12\n",
      "4 * 4 := 16\n",
      "4 * 5 := 20\n",
      "4 * 6 := 24\n",
      "4 * 7 := 28\n",
      "4 * 8 := 32\n",
      "4 * 9 := 36\n",
      "4 * 10 := 40\n",
      "Multiplication Table for: 5\n",
      "5 * 1 := 5\n",
      "5 * 2 := 10\n",
      "5 * 3 := 15\n",
      "5 * 4 := 20\n",
      "5 * 5 := 25\n",
      "5 * 6 := 30\n",
      "5 * 7 := 35\n",
      "5 * 8 := 40\n",
      "5 * 9 := 45\n",
      "5 * 10 := 50\n"
     ]
    }
   ],
   "source": [
    "for i in range(1,6):\n",
    "    print(\"Multiplication Table for:\",i)\n",
    "    for j in range(1,11):\n",
    "        mul=i*j\n",
    "        print(i,\"*\",j,\":=\",mul)"
   ]
  },
  {
   "cell_type": "markdown",
   "id": "2007bca0",
   "metadata": {},
   "source": [
    "17. Write a program that converts a list of Fahrenheit temperatures to Celsius using a `for` loop."
   ]
  },
  {
   "cell_type": "code",
   "execution_count": 15,
   "id": "a2cc2ab6",
   "metadata": {},
   "outputs": [
    {
     "name": "stdout",
     "output_type": "stream",
     "text": [
      "[-17.77777777777778, -5.277777777777778, 4.444444444444445, 37.77777777777778]\n"
     ]
    }
   ],
   "source": [
    "def fahrenheit(T):\n",
    "    return((float(9)/5)*T+32)\n",
    "def celsius(T):\n",
    "    return (float(5)/9)*(T-32)\n",
    "temp=[0,22.5,40,100]\n",
    "a=[]\n",
    "for i in temp:\n",
    "    a.append(celsius(i))\n",
    "print(a)"
   ]
  },
  {
   "cell_type": "markdown",
   "id": "a5ee8b0a",
   "metadata": {},
   "source": [
    "18. Create a program to print the common elements from two lists using a `for` loop."
   ]
  },
  {
   "cell_type": "code",
   "execution_count": 22,
   "id": "17a708aa",
   "metadata": {},
   "outputs": [
    {
     "name": "stdout",
     "output_type": "stream",
     "text": [
      "The common elements are: [1, 2, 3]\n"
     ]
    }
   ],
   "source": [
    "a=[2,3,6,1,2,3]\n",
    "b=[2,3,1,5]\n",
    "c=set()\n",
    "for i in a:\n",
    "    for j in b:\n",
    "        if(i==j):\n",
    "            c.add(i)\n",
    "l=list(c)\n",
    "print(\"The common elements are:\",l)"
   ]
  },
  {
   "cell_type": "markdown",
   "id": "039811ff",
   "metadata": {},
   "source": [
    "19. Develop a program that prints the pattern of right-angled triangles using a `for` loop. Use ‘*’ to draw the\n",
    "pattern"
   ]
  },
  {
   "cell_type": "code",
   "execution_count": 27,
   "id": "802e1109",
   "metadata": {},
   "outputs": [
    {
     "name": "stdout",
     "output_type": "stream",
     "text": [
      "\n",
      "* \n",
      "* * \n",
      "* * * \n",
      "* * * * \n",
      "* * * * * \n",
      "* * * * * * \n",
      "* * * * * * * \n",
      "* * * * * * * * \n",
      "* * * * * * * * * \n"
     ]
    }
   ],
   "source": [
    "for i in range(10):\n",
    "    for j in range(i):\n",
    "        print(\"*\",end=\" \")\n",
    "    print(\"\")"
   ]
  },
  {
   "cell_type": "markdown",
   "id": "267bf661",
   "metadata": {},
   "source": [
    "20. Write a program to find the greatest common divisor (GCD) of two numbers using a `for` loop."
   ]
  },
  {
   "cell_type": "code",
   "execution_count": 28,
   "id": "d83a349d",
   "metadata": {},
   "outputs": [
    {
     "name": "stdout",
     "output_type": "stream",
     "text": [
      "Enter the first number: 23\n",
      "Enter the second number: 12\n",
      "The GCD of 23 and 12 is 1\n"
     ]
    }
   ],
   "source": [
    "# Function to calculate the GCD using the Euclidean algorithm\n",
    "def gcd(a, b):\n",
    "    while b:\n",
    "        a, b = b, a % b\n",
    "    return a\n",
    "\n",
    "# Input two numbers\n",
    "num1 = int(input(\"Enter the first number: \"))\n",
    "num2 = int(input(\"Enter the second number: \"))\n",
    "\n",
    "# Calculate the GCD\n",
    "result = gcd(num1, num2)\n",
    "\n",
    "# Display the result\n",
    "print(f\"The GCD of {num1} and {num2} is {result}\")\n"
   ]
  },
  {
   "cell_type": "markdown",
   "id": "201c0126",
   "metadata": {},
   "source": [
    "# Advanced Level:"
   ]
  },
  {
   "cell_type": "markdown",
   "id": "16f0e77a",
   "metadata": {},
   "source": [
    "#### 21. Create a program that calculates the sum of the digits of numbers in a list using a list comprehension."
   ]
  },
  {
   "cell_type": "code",
   "execution_count": 29,
   "id": "913f4f4b",
   "metadata": {},
   "outputs": [
    {
     "name": "stdout",
     "output_type": "stream",
     "text": [
      "Sum of digits in 123 is 6\n",
      "Sum of digits in 45 is 9\n",
      "Sum of digits in 6789 is 30\n",
      "Sum of digits in 12 is 3\n",
      "Sum of digits in 34 is 7\n"
     ]
    }
   ],
   "source": [
    "# Function to calculate the sum of digits in a number\n",
    "def sum_of_digits(number):\n",
    "    return sum(int(digit) for digit in str(number))\n",
    "\n",
    "# Input a list of numbers\n",
    "numbers = [123, 45, 6789, 12, 34]\n",
    "\n",
    "# Calculate the sum of digits for each number using list comprehension\n",
    "sums = [sum_of_digits(number) for number in numbers]\n",
    "\n",
    "# Display the results\n",
    "for i in range(len(numbers)):\n",
    "    print(f\"Sum of digits in {numbers[i]} is {sums[i]}\")\n"
   ]
  },
  {
   "cell_type": "markdown",
   "id": "3b918a71",
   "metadata": {},
   "source": [
    "#### 22. Write a program to find the prime factors of a given number using a `for` loop and list comprehension."
   ]
  },
  {
   "cell_type": "code",
   "execution_count": 31,
   "id": "e6977b2f",
   "metadata": {},
   "outputs": [
    {
     "name": "stdout",
     "output_type": "stream",
     "text": [
      "Enter a number: 34\n",
      "The prime factors of 34 are: [2, 17]\n"
     ]
    }
   ],
   "source": [
    "# Function to find prime factors of a number\n",
    "def prime_factors(n):\n",
    "    factors = []\n",
    "    # Divide the number by 2 until it's odd\n",
    "    while n % 2 == 0:\n",
    "        factors.append(2)\n",
    "        n //= 2\n",
    "    # Divide by odd numbers starting from 3\n",
    "    for i in range(3, int(n**0.5) + 1, 2):\n",
    "        while n % i == 0:\n",
    "            factors.append(i)\n",
    "            n //= i\n",
    "    # If n is a prime greater than 2, add it to the factors list\n",
    "    if n > 2:\n",
    "        factors.append(n)\n",
    "    return factors\n",
    "\n",
    "# Input a number\n",
    "num = int(input(\"Enter a number: \"))\n",
    "\n",
    "# Calculate the prime factors\n",
    "factors = prime_factors(num)\n",
    "\n",
    "# Display the prime factors\n",
    "print(f\"The prime factors of {num} are: {factors}\")\n"
   ]
  },
  {
   "cell_type": "markdown",
   "id": "07a802fc",
   "metadata": {},
   "source": [
    "#### 23. Develop a program that extracts unique elements from a list and stores them in a new list using a list comprehension."
   ]
  },
  {
   "cell_type": "code",
   "execution_count": 35,
   "id": "b3b7f62c",
   "metadata": {},
   "outputs": [
    {
     "name": "stdout",
     "output_type": "stream",
     "text": [
      "Original List: [1, 2, 2, 3, 4, 4, 5, 6, 6, 7]\n",
      "Unique List: [1, 3, 5, 7]\n"
     ]
    }
   ],
   "source": [
    "# Input list with duplicate elements\n",
    "original_list = [1, 2, 2, 3, 4, 4, 5, 6, 6, 7]\n",
    "\n",
    "# Use a list comprehension to extract unique elements\n",
    "unique_list = [x for x in original_list if original_list.count(x) == 1]\n",
    "\n",
    "# Display the unique elements\n",
    "print(\"Original List:\", original_list)\n",
    "print(\"Unique List:\", unique_list)\n"
   ]
  },
  {
   "cell_type": "markdown",
   "id": "e4b6ed79",
   "metadata": {},
   "source": [
    "\n",
    "#### 24. Create a program that generates a list of all palindromic numbers up to a specified limit using a list comprehension."
   ]
  },
  {
   "cell_type": "code",
   "execution_count": 33,
   "id": "459fb3e4",
   "metadata": {},
   "outputs": [
    {
     "name": "stdout",
     "output_type": "stream",
     "text": [
      "Enter the limit: 34\n",
      "Palindromic Numbers: [1, 2, 3, 4, 5, 6, 7, 8, 9, 11, 22, 33]\n"
     ]
    }
   ],
   "source": [
    "# Function to check if a number is palindromic\n",
    "def is_palindromic(number):\n",
    "    return str(number) == str(number)[::-1]\n",
    "\n",
    "# Input the limit\n",
    "limit = int(input(\"Enter the limit: \"))\n",
    "\n",
    "# Use a list comprehension to generate palindromic numbers up to the limit\n",
    "palindromic_numbers = [num for num in range(1, limit + 1) if is_palindromic(num)]\n",
    "\n",
    "# Display the palindromic numbers\n",
    "print(\"Palindromic Numbers:\", palindromic_numbers)\n"
   ]
  },
  {
   "cell_type": "markdown",
   "id": "b3409554",
   "metadata": {},
   "source": [
    "#### 25. Write a program to flatten a nested list using list comprehension."
   ]
  },
  {
   "cell_type": "code",
   "execution_count": 36,
   "id": "30176d69",
   "metadata": {},
   "outputs": [
    {
     "name": "stdout",
     "output_type": "stream",
     "text": [
      "Original Nested List: [[1, 2, 3], [4, 5], [6, 7, 8]]\n",
      "Flattened List: [1, 2, 3, 4, 5, 6, 7, 8]\n"
     ]
    }
   ],
   "source": [
    "# Function to flatten a nested list using list comprehension\n",
    "def flatten_list(nested_list):\n",
    "    return [item for sublist in nested_list for item in sublist]\n",
    "\n",
    "# Input a nested list\n",
    "nested_list = [[1, 2, 3], [4, 5], [6, 7, 8]]\n",
    "\n",
    "# Flatten the nested list\n",
    "flat_list = flatten_list(nested_list)\n",
    "\n",
    "# Display the flattened list\n",
    "print(\"Original Nested List:\", nested_list)\n",
    "print(\"Flattened List:\", flat_list)"
   ]
  },
  {
   "cell_type": "markdown",
   "id": "6ca388ef",
   "metadata": {},
   "source": [
    "#### 26. Develop a program that computes the sum of even and odd numbers in a list separately using list comprehension."
   ]
  },
  {
   "cell_type": "code",
   "execution_count": 37,
   "id": "94b17e02",
   "metadata": {},
   "outputs": [
    {
     "name": "stdout",
     "output_type": "stream",
     "text": [
      "Original Numbers: [1, 2, 3, 4, 5, 6, 7, 8, 9]\n",
      "Even Numbers: [2, 4, 6, 8]\n",
      "Odd Numbers: [1, 3, 5, 7, 9]\n",
      "Sum of Even Numbers: 20\n",
      "Sum of Odd Numbers: 25\n"
     ]
    }
   ],
   "source": [
    "# Input a list of numbers\n",
    "numbers = [1, 2, 3, 4, 5, 6, 7, 8, 9]\n",
    "\n",
    "# Use list comprehension to separate even and odd numbers\n",
    "even_numbers = [x for x in numbers if x % 2 == 0]\n",
    "odd_numbers = [x for x in numbers if x % 2 != 0]\n",
    "\n",
    "# Calculate the sum of even and odd numbers\n",
    "sum_even = sum(even_numbers)\n",
    "sum_odd = sum(odd_numbers)\n",
    "\n",
    "# Display the results\n",
    "print(\"Original Numbers:\", numbers)\n",
    "print(\"Even Numbers:\", even_numbers)\n",
    "print(\"Odd Numbers:\", odd_numbers)\n",
    "print(\"Sum of Even Numbers:\", sum_even)\n",
    "print(\"Sum of Odd Numbers:\", sum_odd)\n"
   ]
  },
  {
   "cell_type": "markdown",
   "id": "7f05d186",
   "metadata": {},
   "source": [
    "#### 27. Create a program that generates a list of squares of odd numbers between 1 and 10 using list comprehension."
   ]
  },
  {
   "cell_type": "code",
   "execution_count": 38,
   "id": "99e31d9e",
   "metadata": {},
   "outputs": [
    {
     "name": "stdout",
     "output_type": "stream",
     "text": [
      "[1, 9, 25, 49, 81]\n"
     ]
    }
   ],
   "source": [
    "# Generate a list of squares of odd numbers between 1 and 10\n",
    "odd_squares = [x ** 2 for x in range(1, 11) if x % 2 != 0]\n",
    "\n",
    "# Print the list of odd squares\n",
    "print(odd_squares)\n"
   ]
  },
  {
   "cell_type": "markdown",
   "id": "4c5e588d",
   "metadata": {},
   "source": [
    "#### 28. Write a program that combines two lists into a dictionary using list comprehension."
   ]
  },
  {
   "cell_type": "code",
   "execution_count": 39,
   "id": "f7a40474",
   "metadata": {},
   "outputs": [
    {
     "name": "stdout",
     "output_type": "stream",
     "text": [
      "{'a': 1, 'b': 2, 'c': 3}\n"
     ]
    }
   ],
   "source": [
    "# Two lists to be combined into a dictionary\n",
    "keys = [\"a\", \"b\", \"c\"]\n",
    "values = [1, 2, 3]\n",
    "\n",
    "# Use list comprehension to create a dictionary\n",
    "combined_dict = {keys[i]: values[i] for i in range(min(len(keys), len(values)))}\n",
    "\n",
    "# Print the combined dictionary\n",
    "print(combined_dict)\n"
   ]
  },
  {
   "cell_type": "markdown",
   "id": "f8a2329e",
   "metadata": {},
   "source": [
    "#### 29. Develop a program that extracts the vowels from a string and stores them in a list using list comprehension."
   ]
  },
  {
   "cell_type": "code",
   "execution_count": 40,
   "id": "b1b33856",
   "metadata": {},
   "outputs": [
    {
     "name": "stdout",
     "output_type": "stream",
     "text": [
      "['e', 'o', 'o']\n"
     ]
    }
   ],
   "source": [
    "# Input string\n",
    "input_string = \"Hello, World!\"\n",
    "\n",
    "# Use list comprehension to extract vowels and store them in a list\n",
    "vowels = [char.lower() for char in input_string if char.lower() in \"aeiou\"]\n",
    "\n",
    "# Print the list of vowels\n",
    "print(vowels)\n"
   ]
  },
  {
   "cell_type": "markdown",
   "id": "a03cef71",
   "metadata": {},
   "source": [
    "#### 30. Create a program that removes all non-numeric characters from a list of strings using list comprehension."
   ]
  },
  {
   "cell_type": "code",
   "execution_count": 43,
   "id": "ba7f9c5e",
   "metadata": {},
   "outputs": [
    {
     "name": "stdout",
     "output_type": "stream",
     "text": [
      "['123', '456', '789', '1234', '567']\n"
     ]
    }
   ],
   "source": [
    "# List of strings with mixed characters\n",
    "strings = [\"abc123\", \"456xyz\", \"789_!@#\", \"12abc34\", \"!567*\"]\n",
    "\n",
    "# Use list comprehension to remove non-numeric characters\n",
    "numeric_strings = [''.join(char for char in s if char.isdigit()) for s in strings]\n",
    "\n",
    "# Print the list of strings with only numeric characters\n",
    "print(numeric_strings)"
   ]
  },
  {
   "cell_type": "markdown",
   "id": "898ca805",
   "metadata": {},
   "source": [
    "# Challenge Level:"
   ]
  },
  {
   "cell_type": "markdown",
   "id": "5feeaca7",
   "metadata": {},
   "source": [
    "#### 31. Write a program to generate a list of prime numbers using the Sieve of Eratosthenes algorithm and list comprehension."
   ]
  },
  {
   "cell_type": "code",
   "execution_count": 44,
   "id": "da0dc76e",
   "metadata": {},
   "outputs": [
    {
     "name": "stdout",
     "output_type": "stream",
     "text": [
      "Enter a number: 12\n",
      "Prime numbers up to 12 are: [2, 3, 5, 7, 11]\n"
     ]
    }
   ],
   "source": [
    "def sieve_of_eratosthenes(n):\n",
    "    sieve = [True] * (n + 1)\n",
    "    sieve[0] = sieve[1] = False\n",
    "    prime_list = []\n",
    "\n",
    "    for p in range(2, int(n**0.5) + 1):\n",
    "        if sieve[p]:\n",
    "            for i in range(p * p, n + 1, p):\n",
    "                sieve[i] = False\n",
    "\n",
    "    prime_list = [p for p in range(2, n + 1) if sieve[p]]\n",
    "    return prime_list\n",
    "\n",
    "# Example usage:\n",
    "n = int(input(\"Enter a number: \"))\n",
    "primes = sieve_of_eratosthenes(n)\n",
    "print(\"Prime numbers up to\", n, \"are:\", primes)\n"
   ]
  },
  {
   "cell_type": "markdown",
   "id": "35ec72c1",
   "metadata": {},
   "source": [
    "#### 32. Create a program that generates a list of all Pythagorean triplets up to a specified limit using list comprehension."
   ]
  },
  {
   "cell_type": "code",
   "execution_count": 45,
   "id": "90669709",
   "metadata": {},
   "outputs": [
    {
     "name": "stdout",
     "output_type": "stream",
     "text": [
      "Enter a limit: 12\n",
      "Pythagorean triplets up to 12 are: [(3, 4, 5), (6, 8, 10)]\n"
     ]
    }
   ],
   "source": [
    "def generate_pythagorean_triplets(limit):\n",
    "    triplets = [(a, b, c) for a in range(1, limit + 1) for b in range(a, limit + 1) for c in range(b, limit + 1) if a**2 + b**2 == c**2]\n",
    "    return triplets\n",
    "\n",
    "# Example usage:\n",
    "limit = int(input(\"Enter a limit: \"))\n",
    "pythagorean_triplets = generate_pythagorean_triplets(limit)\n",
    "print(\"Pythagorean triplets up to\", limit, \"are:\", pythagorean_triplets)\n"
   ]
  },
  {
   "cell_type": "markdown",
   "id": "f4812161",
   "metadata": {},
   "source": [
    "#### 33. Develop a program that generates a list of all possible combinations of two lists using list comprehension."
   ]
  },
  {
   "cell_type": "code",
   "execution_count": 46,
   "id": "7b1462b8",
   "metadata": {},
   "outputs": [
    {
     "name": "stdout",
     "output_type": "stream",
     "text": [
      "All possible combinations:\n",
      "[(1, 'a'), (1, 'b'), (1, 'c'), (2, 'a'), (2, 'b'), (2, 'c'), (3, 'a'), (3, 'b'), (3, 'c')]\n"
     ]
    }
   ],
   "source": [
    "list1 = [1, 2, 3]\n",
    "list2 = ['a', 'b', 'c']\n",
    "\n",
    "combinations = [(x, y) for x in list1 for y in list2]\n",
    "\n",
    "print(\"All possible combinations:\")\n",
    "print(combinations)"
   ]
  },
  {
   "cell_type": "markdown",
   "id": "3cefa6ea",
   "metadata": {},
   "source": [
    "#### 34. Write a program that calculates the mean, median, and mode of a list of numbers using list comprehension."
   ]
  },
  {
   "cell_type": "code",
   "execution_count": 47,
   "id": "e04aa41e",
   "metadata": {},
   "outputs": [
    {
     "name": "stdout",
     "output_type": "stream",
     "text": [
      "List of numbers: [5, 2, 7, 2, 8, 4, 6, 8, 3, 5, 8]\n",
      "Mean: 5.2727272727272725\n",
      "Median: 5\n",
      "Mode: [8]\n"
     ]
    }
   ],
   "source": [
    "# Import the statistics module for finding the median\n",
    "import statistics\n",
    "\n",
    "# Sample list of numbers\n",
    "numbers = [5, 2, 7, 2, 8, 4, 6, 8, 3, 5, 8]\n",
    "\n",
    "# Calculate the mean using list comprehension\n",
    "mean = sum(numbers) / len(numbers)\n",
    "\n",
    "# Calculate the median using the statistics module\n",
    "median = statistics.median(numbers)\n",
    "\n",
    "# Calculate the mode using a dictionary and list comprehension\n",
    "counts = {num: numbers.count(num) for num in numbers}\n",
    "mode = [key for key, value in counts.items() if value == max(counts.values())]\n",
    "\n",
    "print(\"List of numbers:\", numbers)\n",
    "print(\"Mean:\", mean)\n",
    "print(\"Median:\", median)\n",
    "print(\"Mode:\", mode)\n"
   ]
  },
  {
   "cell_type": "markdown",
   "id": "85dce665",
   "metadata": {},
   "source": [
    "#### 35. Create a program that generates Pascal's triangle up to a specified number of rows using list comprehension."
   ]
  },
  {
   "cell_type": "code",
   "execution_count": 48,
   "id": "f250ebdf",
   "metadata": {},
   "outputs": [
    {
     "name": "stdout",
     "output_type": "stream",
     "text": [
      "Enter the number of rows for Pascal's Triangle: 5\n",
      "    1    \n",
      "   1 1   \n",
      "  1 2 1  \n",
      " 1 3 3 1 \n",
      "1 4 6 4 1\n"
     ]
    }
   ],
   "source": [
    "def generate_pascals_triangle(rows):\n",
    "    if rows <= 0:\n",
    "        return []\n",
    "\n",
    "    triangle = [[1]]\n",
    "    \n",
    "    while len(triangle) < rows:\n",
    "        last_row = triangle[-1]\n",
    "        next_row = [1] + [last_row[i] + last_row[i + 1] for i in range(len(last_row) - 1)] + [1]\n",
    "        triangle.append(next_row)\n",
    "    \n",
    "    return triangle\n",
    "\n",
    "def print_pascals_triangle(triangle):\n",
    "    max_width = len(' '.join(map(str, triangle[-1])))\n",
    "    for row in triangle:\n",
    "        row_str = ' '.join(map(str, row))\n",
    "        print(row_str.center(max_width))\n",
    "\n",
    "if __name__ == \"__main__\":\n",
    "    try:\n",
    "        num_rows = int(input(\"Enter the number of rows for Pascal's Triangle: \"))\n",
    "        pascals_triangle = generate_pascals_triangle(num_rows)\n",
    "        print_pascals_triangle(pascals_triangle)\n",
    "    except ValueError:\n",
    "        print(\"Please enter a valid positive integer.\")\n"
   ]
  },
  {
   "cell_type": "markdown",
   "id": "505d5901",
   "metadata": {},
   "source": [
    "#### 36. Develop a program that calculates the sum of the digits of a factorial of numbers from 1 to 5 using list comprehension."
   ]
  },
  {
   "cell_type": "code",
   "execution_count": 49,
   "id": "2aefcbe4",
   "metadata": {},
   "outputs": [
    {
     "name": "stdout",
     "output_type": "stream",
     "text": [
      "The sum of digits of 1! is 1\n",
      "The sum of digits of 2! is 2\n",
      "The sum of digits of 3! is 6\n",
      "The sum of digits of 4! is 6\n",
      "The sum of digits of 5! is 3\n"
     ]
    }
   ],
   "source": [
    "def factorial(n):\n",
    "    if n == 0:\n",
    "        return 1\n",
    "    else:\n",
    "        return n * factorial(n - 1)\n",
    "\n",
    "def sum_of_digits(n):\n",
    "    return sum(int(digit) for digit in str(n))\n",
    "\n",
    "if __name__ == \"__main__\":\n",
    "    numbers = [1, 2, 3, 4, 5]\n",
    "    factorial_sums = [sum_of_digits(factorial(n)) for n in numbers]\n",
    "\n",
    "    for i, n in enumerate(numbers):\n",
    "        print(f\"The sum of digits of {n}! is {factorial_sums[i]}\")"
   ]
  },
  {
   "cell_type": "markdown",
   "id": "4f113bb5",
   "metadata": {},
   "source": [
    "#### 37. Write a program that finds the longest word in a sentence using list comprehension."
   ]
  },
  {
   "cell_type": "code",
   "execution_count": 50,
   "id": "860530e3",
   "metadata": {},
   "outputs": [
    {
     "name": "stdout",
     "output_type": "stream",
     "text": [
      "Enter a sentence: Hello Python What is going on\n",
      "The longest word in the sentence is: Python\n"
     ]
    }
   ],
   "source": [
    "def find_longest_word(sentence):\n",
    "    # Split the sentence into words using whitespace as the delimiter\n",
    "    words = sentence.split()\n",
    "    \n",
    "    # Use list comprehension to find the longest word(s)\n",
    "    longest_words = [word for word in words if len(word) == max(len(w) for w in words)]\n",
    "    \n",
    "    return longest_words\n",
    "\n",
    "if __name__ == \"__main__\":\n",
    "    input_sentence = input(\"Enter a sentence: \")\n",
    "    longest_words = find_longest_word(input_sentence)\n",
    "\n",
    "    if longest_words:\n",
    "        if len(longest_words) == 1:\n",
    "            print(f\"The longest word in the sentence is: {longest_words[0]}\")\n",
    "        else:\n",
    "            print(\"The longest words in the sentence are:\")\n",
    "            for word in longest_words:\n",
    "                print(word)\n",
    "    else:\n",
    "        print(\"No words found in the sentence.\")\n"
   ]
  },
  {
   "cell_type": "markdown",
   "id": "8fe0a8bc",
   "metadata": {},
   "source": [
    "#### 38. Create a program that filters a list of strings to include only those with more than three vowels using list comprehension."
   ]
  },
  {
   "cell_type": "code",
   "execution_count": 55,
   "id": "1f8d1760",
   "metadata": {},
   "outputs": [
    {
     "name": "stdout",
     "output_type": "stream",
     "text": [
      "Strings with more than three vowels:\n",
      "elephanto\n"
     ]
    }
   ],
   "source": [
    "def count_vowels(word):\n",
    "    vowels = \"AEIOUaeiou\"\n",
    "    return sum(1 for letter in word if letter in vowels)\n",
    "\n",
    "def filter_strings_with_more_than_three_vowels(string_list):\n",
    "    return [word for word in string_list if count_vowels(word) > 3]\n",
    "\n",
    "if __name__ == \"__main__\":\n",
    "    input_strings = [\"apple\", \"banana\", \"cherry\", \"dog\", \"elephanto\", \"fig\"]\n",
    "    \n",
    "    filtered_strings = filter_strings_with_more_than_three_vowels(input_strings)\n",
    "    \n",
    "    print(\"Strings with more than three vowels:\")\n",
    "    for word in filtered_strings:\n",
    "        print(word)\n"
   ]
  },
  {
   "cell_type": "markdown",
   "id": "8328c278",
   "metadata": {},
   "source": [
    "#### 39. Develop a program that calculates the sum of the digits of numbers from 1 to 1000 using list comprehension."
   ]
  },
  {
   "cell_type": "code",
   "execution_count": 56,
   "id": "f9b5b54a",
   "metadata": {},
   "outputs": [
    {
     "name": "stdout",
     "output_type": "stream",
     "text": [
      "Sum of the digits of numbers from 1 to 1000:\n",
      "Total sum: 13501\n"
     ]
    }
   ],
   "source": [
    "def sum_of_digits(n):\n",
    "    return sum(int(digit) for digit in str(n))\n",
    "\n",
    "# Use list comprehension to calculate the sum of digits for numbers from 1 to 1000\n",
    "digit_sums = [sum_of_digits(i) for i in range(1, 1001)]\n",
    "\n",
    "# Calculate the total sum of digit sums\n",
    "total_sum = sum(digit_sums)\n",
    "\n",
    "print(\"Sum of the digits of numbers from 1 to 1000:\")\n",
    "print(f\"Total sum: {total_sum}\")\n"
   ]
  },
  {
   "cell_type": "markdown",
   "id": "67c80047",
   "metadata": {},
   "source": [
    "#### 40. Write a program that generates a list of prime palindromic numbers using list comprehension."
   ]
  },
  {
   "cell_type": "code",
   "execution_count": 57,
   "id": "cf2c08c2",
   "metadata": {},
   "outputs": [
    {
     "name": "stdout",
     "output_type": "stream",
     "text": [
      "Prime palindromic numbers:\n",
      "[2, 3, 5, 7, 11, 101, 131, 151, 181, 191, 313, 353, 373, 383, 727, 757, 787, 797, 919, 929]\n"
     ]
    }
   ],
   "source": [
    "def is_prime(n):\n",
    "    if n <= 1:\n",
    "        return False\n",
    "    if n <= 3:\n",
    "        return True\n",
    "    if n % 2 == 0 or n % 3 == 0:\n",
    "        return False\n",
    "    i = 5\n",
    "    while i * i <= n:\n",
    "        if n % i == 0 or n % (i + 2) == 0:\n",
    "            return False\n",
    "        i += 6\n",
    "    return True\n",
    "\n",
    "def is_palindrome(n):\n",
    "    return str(n) == str(n)[::-1]\n",
    "\n",
    "# Use list comprehension to generate prime palindromic numbers\n",
    "prime_palindromic_numbers = [num for num in range(1, 1000) if is_prime(num) and is_palindrome(num)]\n",
    "\n",
    "# Print the list of prime palindromic numbers\n",
    "print(\"Prime palindromic numbers:\")\n",
    "print(prime_palindromic_numbers)"
   ]
  },
  {
   "cell_type": "code",
   "execution_count": null,
   "id": "13988230",
   "metadata": {},
   "outputs": [],
   "source": []
  }
 ],
 "metadata": {
  "kernelspec": {
   "display_name": "Python 3 (ipykernel)",
   "language": "python",
   "name": "python3"
  },
  "language_info": {
   "codemirror_mode": {
    "name": "ipython",
    "version": 3
   },
   "file_extension": ".py",
   "mimetype": "text/x-python",
   "name": "python",
   "nbconvert_exporter": "python",
   "pygments_lexer": "ipython3",
   "version": "3.9.13"
  }
 },
 "nbformat": 4,
 "nbformat_minor": 5
}
